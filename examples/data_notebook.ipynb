{
 "cells": [
  {
   "cell_type": "code",
   "execution_count": 1,
   "metadata": {},
   "outputs": [],
   "source": [
    "import json\n",
    "import polars as pl\n",
    "\n",
    "from perpv2_market_api.market_pipe import SNXMarketData\n",
    "from perpv2_market_api.data_structs import SNXMarketSummaryStruct"
   ]
  },
  {
   "cell_type": "code",
   "execution_count": 2,
   "metadata": {},
   "outputs": [
    {
     "name": "stdout",
     "output_type": "stream",
     "text": [
      "/home/evan/Documents/perpv2_market_api\n"
     ]
    },
    {
     "name": "stderr",
     "output_type": "stream",
     "text": [
      "/home/evan/Documents/perpv2_market_api/.venv/lib/python3.10/site-packages/IPython/core/magics/osm.py:417: UserWarning: using dhist requires you to install the `pickleshare` library.\n",
      "  self.shell.db['dhist'] = compress_dhist(dhist)[-100:]\n"
     ]
    }
   ],
   "source": [
    "cd ../"
   ]
  },
  {
   "cell_type": "code",
   "execution_count": 3,
   "metadata": {},
   "outputs": [],
   "source": [
    "# get current market data for the latest block\n",
    "snx_pipe = SNXMarketData()\n",
    "\n",
    "# query market data\n",
    "snx_market_data: list[SNXMarketSummaryStruct] = snx_pipe.preprocess_raw_market_summary_array()"
   ]
  },
  {
   "cell_type": "code",
   "execution_count": 4,
   "metadata": {},
   "outputs": [],
   "source": [
    "# convert dataclass attributes to a dictionary\n",
    "snx_market_list = [market.to_dict() for market in snx_market_data]\n",
    "\n",
    "# load dataframe from dictionary\n",
    "snx_markets_df = pl.from_dicts(snx_market_list)"
   ]
  },
  {
   "cell_type": "code",
   "execution_count": 5,
   "metadata": {},
   "outputs": [],
   "source": [
    "# Specify the file path\n",
    "file_path = 'data/perp_market_params.json'\n",
    "\n",
    "# Read the JSON file\n",
    "with open(file_path, 'r') as json_file:\n",
    "    perp_market_params_data = json.load(json_file)\n",
    "\n",
    "market_params_df = pl.from_dicts(perp_market_params_data).with_columns(pl.col(\"marketKey\").alias(\"key\")).select(['key', 'maxLeverage', 'maxMarketValue', 'maxFundingVelocity', 'skewScale'])"
   ]
  },
  {
   "cell_type": "code",
   "execution_count": 6,
   "metadata": {},
   "outputs": [],
   "source": [
    "# join params to market data\n",
    "snx_market_df = snx_markets_df.join(market_params_df, on=\"key\", how='left')"
   ]
  },
  {
   "cell_type": "code",
   "execution_count": 7,
   "metadata": {},
   "outputs": [],
   "source": [
    "complete_market_df = snx_pipe.transform_df(snx_market_df)"
   ]
  },
  {
   "cell_type": "code",
   "execution_count": 9,
   "metadata": {},
   "outputs": [
    {
     "data": {
      "text/plain": [
       "OrderedDict([('market', Utf8),\n",
       "             ('asset', Utf8),\n",
       "             ('key', Utf8),\n",
       "             ('maxLeverage', Float64),\n",
       "             ('price', Float64),\n",
       "             ('marketSize', Float64),\n",
       "             ('marketSkew', Float64),\n",
       "             ('marketDebt', Float64),\n",
       "             ('currentFundingRate', Float64),\n",
       "             ('currentFundingVelocity', Float64),\n",
       "             ('takerFeeOffchainDelayedOrder', Float64),\n",
       "             ('makerFeeOffchainDelayedOrder', Float64),\n",
       "             ('block', Int64),\n",
       "             ('timestamp', Int64),\n",
       "             ('eightHrFundingRate', Float64),\n",
       "             ('eightHrFundingVelocity', Float64),\n",
       "             ('yearlyFundingRate', Float64),\n",
       "             ('long_oi', Float64),\n",
       "             ('short_oi', Float64),\n",
       "             ('relative_market_skew', Float64),\n",
       "             ('marketSize_usd', Float64),\n",
       "             ('marketSkew_usd', Float64),\n",
       "             ('marketDebt_usd', Float64),\n",
       "             ('long_oi_usd', Float64),\n",
       "             ('short_oi_usd', Float64),\n",
       "             ('maxLeverage_right', Float64),\n",
       "             ('maxMarketValue', Float64),\n",
       "             ('maxFundingVelocity', Float64),\n",
       "             ('skewScale', Float64),\n",
       "             ('premium_0', Float64),\n",
       "             ('executionPrice', Float64),\n",
       "             ('price_impact_full_rebalance', Float64),\n",
       "             ('datetime', Datetime(time_unit='us', time_zone=None)),\n",
       "             ('yearlyFundingVelocity', Float64),\n",
       "             ('relative_market_skew_corrected_percent', Float64),\n",
       "             ('total_marketSize_usd', Float64),\n",
       "             ('total_marketSkew_usd', Float64),\n",
       "             ('total_long_oi_usd', Float64),\n",
       "             ('total_short_oi_usd', Float64),\n",
       "             ('proportional_marketSize_usd', Float64),\n",
       "             ('proportional_marketSkew_usd', Float64),\n",
       "             ('proportional_long_oi_usd', Float64),\n",
       "             ('proportional_short_oi_usd', Float64),\n",
       "             ('maxMarketValue_usd', Float64),\n",
       "             ('skewScale_maxMarketValue_multiplier', Float64)])"
      ]
     },
     "execution_count": 9,
     "metadata": {},
     "output_type": "execute_result"
    }
   ],
   "source": [
    "complete_market_df.schema"
   ]
  },
  {
   "cell_type": "code",
   "execution_count": 11,
   "metadata": {},
   "outputs": [
    {
     "data": {
      "text/plain": [
       "(74, 45)"
      ]
     },
     "execution_count": 11,
     "metadata": {},
     "output_type": "execute_result"
    }
   ],
   "source": [
    "complete_market_df.shape"
   ]
  },
  {
   "cell_type": "code",
   "execution_count": 10,
   "metadata": {},
   "outputs": [
    {
     "data": {
      "text/html": [
       "<div><style>\n",
       ".dataframe > thead > tr,\n",
       ".dataframe > tbody > tr {\n",
       "  text-align: right;\n",
       "  white-space: pre-wrap;\n",
       "}\n",
       "</style>\n",
       "<small>shape: (5, 45)</small><table border=\"1\" class=\"dataframe\"><thead><tr><th>market</th><th>asset</th><th>key</th><th>maxLeverage</th><th>price</th><th>marketSize</th><th>marketSkew</th><th>marketDebt</th><th>currentFundingRate</th><th>currentFundingVelocity</th><th>takerFeeOffchainDelayedOrder</th><th>makerFeeOffchainDelayedOrder</th><th>block</th><th>timestamp</th><th>eightHrFundingRate</th><th>eightHrFundingVelocity</th><th>yearlyFundingRate</th><th>long_oi</th><th>short_oi</th><th>relative_market_skew</th><th>marketSize_usd</th><th>marketSkew_usd</th><th>marketDebt_usd</th><th>long_oi_usd</th><th>short_oi_usd</th><th>maxLeverage_right</th><th>maxMarketValue</th><th>maxFundingVelocity</th><th>skewScale</th><th>premium_0</th><th>executionPrice</th><th>price_impact_full_rebalance</th><th>datetime</th><th>yearlyFundingVelocity</th><th>relative_market_skew_corrected_percent</th><th>total_marketSize_usd</th><th>total_marketSkew_usd</th><th>total_long_oi_usd</th><th>total_short_oi_usd</th><th>proportional_marketSize_usd</th><th>proportional_marketSkew_usd</th><th>proportional_long_oi_usd</th><th>proportional_short_oi_usd</th><th>maxMarketValue_usd</th><th>skewScale_maxMarketValue_multiplier</th></tr><tr><td>str</td><td>str</td><td>str</td><td>f64</td><td>f64</td><td>f64</td><td>f64</td><td>f64</td><td>f64</td><td>f64</td><td>f64</td><td>f64</td><td>i64</td><td>i64</td><td>f64</td><td>f64</td><td>f64</td><td>f64</td><td>f64</td><td>f64</td><td>f64</td><td>f64</td><td>f64</td><td>f64</td><td>f64</td><td>f64</td><td>f64</td><td>f64</td><td>f64</td><td>f64</td><td>f64</td><td>f64</td><td>datetime[μs]</td><td>f64</td><td>f64</td><td>f64</td><td>f64</td><td>f64</td><td>f64</td><td>f64</td><td>f64</td><td>f64</td><td>f64</td><td>f64</td><td>f64</td></tr></thead><tbody><tr><td>&quot;0x0940B0A96C5e…</td><td>&quot;BNB&quot;</td><td>&quot;sBNBPERP&quot;</td><td>27.5</td><td>231.327756</td><td>8817.896454</td><td>-193.099655</td><td>787957.059311</td><td>0.002246</td><td>-0.010904</td><td>0.0008</td><td>0.0002</td><td>112534747</td><td>1700668271</td><td>0.000749</td><td>-0.003635</td><td>81.997073</td><td>4312.3984</td><td>-4505.498054</td><td>-0.021899</td><td>2.0398e6</td><td>-44669.309766</td><td>1.8228e8</td><td>997577.444815</td><td>-1.0422e6</td><td>27.5</td><td>20000.0</td><td>36.0</td><td>637500.0</td><td>-0.000303</td><td>231.292721</td><td>-0.000151</td><td>2023-11-22 15:51:11</td><td>-398.012464</td><td>-0.021899</td><td>1.7044e8</td><td>345783.714011</td><td>8.5394e7</td><td>-8.5048e7</td><td>0.011968</td><td>-0.129183</td><td>0.011682</td><td>0.012255</td><td>20000.0</td><td>31.875</td></tr><tr><td>&quot;0x3a52b2181616…</td><td>&quot;AXS&quot;</td><td>&quot;sAXSPERP&quot;</td><td>27.5</td><td>5.734327</td><td>3919.299908</td><td>656.126746</td><td>6931.624943</td><td>-0.001377</td><td>0.006299</td><td>0.001</td><td>0.0002</td><td>112534747</td><td>1700668271</td><td>-0.000459</td><td>0.0021</td><td>-50.271881</td><td>2287.713327</td><td>-1631.586581</td><td>0.167409</td><td>22474.545596</td><td>3762.445035</td><td>39748.201087</td><td>13118.495315</td><td>-9356.05028</td><td>27.5</td><td>100000.0</td><td>36.0</td><td>3.75e6</td><td>0.000175</td><td>5.734828</td><td>0.000087</td><td>2023-11-22 15:51:11</td><td>229.906812</td><td>0.167409</td><td>1.7044e8</td><td>345783.714011</td><td>8.5394e7</td><td>-8.5048e7</td><td>0.000132</td><td>0.010881</td><td>0.000154</td><td>0.00011</td><td>100000.0</td><td>37.5</td></tr><tr><td>&quot;0x2B3bb4c683BF…</td><td>&quot;sETH&quot;</td><td>&quot;sETHPERP&quot;</td><td>55.0</td><td>2031.295</td><td>28355.345037</td><td>-186.332401</td><td>1.3217e7</td><td>0.001492</td><td>-0.001677</td><td>0.0006</td><td>0.0002</td><td>112534747</td><td>1700668271</td><td>0.000497</td><td>-0.000559</td><td>54.457399</td><td>14084.506318</td><td>-14270.838719</td><td>-0.006571</td><td>5.7598e7</td><td>-378496.074728</td><td>2.6847e10</td><td>2.8610e7</td><td>-2.8988e7</td><td>55.0</td><td>36000.0</td><td>9.0</td><td>1e6</td><td>-0.000186</td><td>2031.105752</td><td>-0.000093</td><td>2023-11-22 15:51:11</td><td>-61.210194</td><td>-0.006571</td><td>1.7044e8</td><td>345783.714011</td><td>8.5394e7</td><td>-8.5048e7</td><td>0.337934</td><td>-1.094604</td><td>0.335033</td><td>0.340846</td><td>36000.0</td><td>27.777778</td></tr><tr><td>&quot;0x59b007E9ea8F…</td><td>&quot;sBTC&quot;</td><td>&quot;sBTCPERP&quot;</td><td>55.0</td><td>36509.402</td><td>1098.032717</td><td>24.76808</td><td>9.2295e6</td><td>-0.000677</td><td>0.002229</td><td>0.0006</td><td>0.0002</td><td>112534747</td><td>1700668271</td><td>-0.000226</td><td>0.000743</td><td>-24.701888</td><td>561.400398</td><td>-536.632318</td><td>0.022557</td><td>4.0089e7</td><td>904267.791857</td><td>3.3697e11</td><td>2.0496e7</td><td>-1.9592e7</td><td>55.0</td><td>1750.0</td><td>9.0</td><td>100000.0</td><td>0.000248</td><td>36513.923339</td><td>0.000124</td><td>2023-11-22 15:51:11</td><td>81.363143</td><td>0.022557</td><td>1.7044e8</td><td>345783.714011</td><td>8.5394e7</td><td>-8.5048e7</td><td>0.235203</td><td>2.615125</td><td>0.240022</td><td>0.230365</td><td>1750.0</td><td>57.142857</td></tr><tr><td>&quot;0x31A1659Ca00F…</td><td>&quot;LINK&quot;</td><td>&quot;sLINKPERP&quot;</td><td>27.5</td><td>14.249132</td><td>1.0266e6</td><td>8023.082705</td><td>3.7201e6</td><td>0.000636</td><td>0.019255</td><td>0.0008</td><td>0.0002</td><td>112534747</td><td>1700668271</td><td>0.000212</td><td>0.006418</td><td>23.222301</td><td>517295.802628</td><td>-509272.719923</td><td>0.007815</td><td>1.4628e7</td><td>114321.968114</td><td>5.3008e7</td><td>7.3710e6</td><td>-7.2567e6</td><td>27.5</td><td>900000.0</td><td>36.0</td><td>1.5e7</td><td>0.000535</td><td>14.252943</td><td>0.000267</td><td>2023-11-22 15:51:11</td><td>702.822045</td><td>0.007815</td><td>1.7044e8</td><td>345783.714011</td><td>8.5394e7</td><td>-8.5048e7</td><td>0.085822</td><td>0.330617</td><td>0.086318</td><td>0.085325</td><td>900000.0</td><td>16.666667</td></tr></tbody></table></div>"
      ],
      "text/plain": [
       "shape: (5, 45)\n",
       "┌────────────┬───────┬───────────┬────────────┬───┬────────────┬───────────┬───────────┬───────────┐\n",
       "│ market     ┆ asset ┆ key       ┆ maxLeverag ┆ … ┆ proportion ┆ proportio ┆ maxMarket ┆ skewScale │\n",
       "│ ---        ┆ ---   ┆ ---       ┆ e          ┆   ┆ al_long_oi ┆ nal_short ┆ Value_usd ┆ _maxMarke │\n",
       "│ str        ┆ str   ┆ str       ┆ ---        ┆   ┆ _usd       ┆ _oi_usd   ┆ ---       ┆ tValue_mu │\n",
       "│            ┆       ┆           ┆ f64        ┆   ┆ ---        ┆ ---       ┆ f64       ┆ ltipl…    │\n",
       "│            ┆       ┆           ┆            ┆   ┆ f64        ┆ f64       ┆           ┆ ---       │\n",
       "│            ┆       ┆           ┆            ┆   ┆            ┆           ┆           ┆ f64       │\n",
       "╞════════════╪═══════╪═══════════╪════════════╪═══╪════════════╪═══════════╪═══════════╪═══════════╡\n",
       "│ 0x0940B0A9 ┆ BNB   ┆ sBNBPERP  ┆ 27.5       ┆ … ┆ 0.011682   ┆ 0.012255  ┆ 20000.0   ┆ 31.875    │\n",
       "│ 6C5e1ba33A ┆       ┆           ┆            ┆   ┆            ┆           ┆           ┆           │\n",
       "│ EE331a9f95 ┆       ┆           ┆            ┆   ┆            ┆           ┆           ┆           │\n",
       "│ 0B…        ┆       ┆           ┆            ┆   ┆            ┆           ┆           ┆           │\n",
       "│ 0x3a52b218 ┆ AXS   ┆ sAXSPERP  ┆ 27.5       ┆ … ┆ 0.000154   ┆ 0.00011   ┆ 100000.0  ┆ 37.5      │\n",
       "│ 16168dfe35 ┆       ┆           ┆            ┆   ┆            ┆           ┆           ┆           │\n",
       "│ bE99b7C5fc ┆       ┆           ┆            ┆   ┆            ┆           ┆           ┆           │\n",
       "│ 20…        ┆       ┆           ┆            ┆   ┆            ┆           ┆           ┆           │\n",
       "│ 0x2B3bb4c6 ┆ sETH  ┆ sETHPERP  ┆ 55.0       ┆ … ┆ 0.335033   ┆ 0.340846  ┆ 36000.0   ┆ 27.777778 │\n",
       "│ 83BFc5239B ┆       ┆           ┆            ┆   ┆            ┆           ┆           ┆           │\n",
       "│ 029131EEf3 ┆       ┆           ┆            ┆   ┆            ┆           ┆           ┆           │\n",
       "│ B1…        ┆       ┆           ┆            ┆   ┆            ┆           ┆           ┆           │\n",
       "│ 0x59b007E9 ┆ sBTC  ┆ sBTCPERP  ┆ 55.0       ┆ … ┆ 0.240022   ┆ 0.230365  ┆ 1750.0    ┆ 57.142857 │\n",
       "│ ea8F89b069 ┆       ┆           ┆            ┆   ┆            ┆           ┆           ┆           │\n",
       "│ c43F8f4583 ┆       ┆           ┆            ┆   ┆            ┆           ┆           ┆           │\n",
       "│ 4d…        ┆       ┆           ┆            ┆   ┆            ┆           ┆           ┆           │\n",
       "│ 0x31A1659C ┆ LINK  ┆ sLINKPERP ┆ 27.5       ┆ … ┆ 0.086318   ┆ 0.085325  ┆ 900000.0  ┆ 16.666667 │\n",
       "│ a00F617E86 ┆       ┆           ┆            ┆   ┆            ┆           ┆           ┆           │\n",
       "│ Dc765B6494 ┆       ┆           ┆            ┆   ┆            ┆           ┆           ┆           │\n",
       "│ Af…        ┆       ┆           ┆            ┆   ┆            ┆           ┆           ┆           │\n",
       "└────────────┴───────┴───────────┴────────────┴───┴────────────┴───────────┴───────────┴───────────┘"
      ]
     },
     "execution_count": 10,
     "metadata": {},
     "output_type": "execute_result"
    }
   ],
   "source": [
    "complete_market_df.head(5)"
   ]
  },
  {
   "cell_type": "code",
   "execution_count": null,
   "metadata": {},
   "outputs": [],
   "source": []
  }
 ],
 "metadata": {
  "kernelspec": {
   "display_name": ".venv",
   "language": "python",
   "name": "python3"
  },
  "language_info": {
   "codemirror_mode": {
    "name": "ipython",
    "version": 3
   },
   "file_extension": ".py",
   "mimetype": "text/x-python",
   "name": "python",
   "nbconvert_exporter": "python",
   "pygments_lexer": "ipython3",
   "version": "3.10.12"
  }
 },
 "nbformat": 4,
 "nbformat_minor": 2
}
